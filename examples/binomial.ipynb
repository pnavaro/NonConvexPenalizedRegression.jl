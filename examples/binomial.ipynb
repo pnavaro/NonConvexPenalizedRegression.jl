{
 "cells": [
  {
   "cell_type": "code",
   "execution_count": 2,
   "id": "fd502e71",
   "metadata": {},
   "outputs": [],
   "source": [
    "using RCall\n",
    "using DataFrames\n",
    "using GLM"
   ]
  },
  {
   "cell_type": "code",
   "execution_count": 33,
   "id": "94dc9a3b",
   "metadata": {},
   "outputs": [
    {
     "data": {
      "text/plain": [
       "11-element Vector{Float64}:\n",
       " -0.1284130197375254\n",
       "  0.13626538627519952\n",
       " -0.14053083294025265\n",
       "  0.1811729245831268\n",
       " -0.11412586020154948\n",
       " -0.34999063257208013\n",
       "  0.16578587265597672\n",
       "  0.23374717482183197\n",
       "  0.22255258513153905\n",
       " -0.012473730598391283\n",
       "  0.5581361724352532"
      ]
     },
     "execution_count": 33,
     "metadata": {},
     "output_type": "execute_result"
    }
   ],
   "source": [
    "R\"\"\"\n",
    "library(ncvreg)\n",
    "set.seed(123)\n",
    "X <- matrix(rnorm(500),ncol=10)\n",
    "b <- rnorm(10)\n",
    "y <- rnorm(X%*%b) > 0\n",
    "model <- glm(y~X, family=binomial(link=\"logit\"))\n",
    "beta <- model$coef\n",
    "\"\"\"\n",
    "X = @rget X\n",
    "y = Int.(@rget y)\n",
    "beta = @rget beta"
   ]
  },
  {
   "cell_type": "code",
   "execution_count": 35,
   "id": "a3e02b26",
   "metadata": {},
   "outputs": [
    {
     "data": {
      "text/plain": [
       "11-element Vector{Float64}:\n",
       " -0.12841300555268695\n",
       "  0.13626536285432495\n",
       " -0.14053079008110464\n",
       "  0.18117285734123387\n",
       " -0.11412581926075582\n",
       " -0.34999054364953003\n",
       "  0.16578582510005982\n",
       "  0.23374712320308616\n",
       "  0.22255247816955062\n",
       " -0.012473706972075865\n",
       "  0.5581359859745981"
      ]
     },
     "execution_count": 35,
     "metadata": {},
     "output_type": "execute_result"
    }
   ],
   "source": [
    "n, p = size(X)\n",
    "coef(glm(hcat(ones(n), X), y, Binomial(), LogitLink()))"
   ]
  },
  {
   "cell_type": "code",
   "execution_count": 36,
   "id": "33063d21",
   "metadata": {},
   "outputs": [],
   "source": [
    "import NonConvexPenalizedRegression:reg_binomial_scad"
   ]
  },
  {
   "cell_type": "code",
   "execution_count": 38,
   "id": "7f67c4a8",
   "metadata": {},
   "outputs": [
    {
     "data": {
      "text/plain": [
       "([-0.6490314464230426 0.1192732780497979 … -0.0078201044161211 1.2541217646966658; -0.2886660273587653 -0.19518671018462624 … -1.0848328516433505 0.8367248221157979; … ; 0.8134305371873726 -0.4262954237563053 … -1.9539266379037412 0.0944137246911832; -0.1284935354800231 -1.3084543809901155 … -1.5448373840294747 0.29893171693897863], [0.03440354909857048, 0.14640826817384267, -0.2539004331496916, 0.0388068371426737, -0.008520539147923027, 0.24945075915061252, 0.002054114245830972, -0.07449993105992679, -0.06560461796967408, 0.2773064688053908], [0.9165645192221353, 0.8963470072171231, 0.979390613336959, 0.9216182435522328, 0.9378705796345685, 0.9346758114034174, 1.0210842627179344, 1.0445133795698618, 1.0167896416334918, 0.9194449094515884])"
      ]
     },
     "execution_count": 38,
     "metadata": {},
     "output_type": "execute_result"
    }
   ],
   "source": [
    "reg_binomial_scad( X, y) "
   ]
  },
  {
   "cell_type": "code",
   "execution_count": null,
   "id": "b09851e2",
   "metadata": {},
   "outputs": [],
   "source": []
  }
 ],
 "metadata": {
  "kernelspec": {
   "display_name": "Julia 1.9.0",
   "language": "julia",
   "name": "julia-1.9"
  },
  "language_info": {
   "file_extension": ".jl",
   "mimetype": "application/julia",
   "name": "julia",
   "version": "1.9.0"
  }
 },
 "nbformat": 4,
 "nbformat_minor": 5
}
